{
 "cells": [
  {
   "cell_type": "code",
   "execution_count": 40,
   "id": "e4ab94de",
   "metadata": {},
   "outputs": [],
   "source": [
    "import pandas as pd\n",
    "\n",
    "#read file and visualise it\n",
    "\n",
    "data = pd.read_csv('dataset.csv', nrows=300000)"
   ]
  },
  {
   "cell_type": "code",
   "execution_count": 41,
   "id": "7c0b686b",
   "metadata": {},
   "outputs": [
    {
     "name": "stdout",
     "output_type": "stream",
     "text": [
      "        app_id                    app_name  \\\n",
      "0           10              Counter-Strike   \n",
      "1           10              Counter-Strike   \n",
      "2           10              Counter-Strike   \n",
      "3           10              Counter-Strike   \n",
      "4           10              Counter-Strike   \n",
      "...        ...                         ...   \n",
      "299995   12200  Bully: Scholarship Edition   \n",
      "299996   12200  Bully: Scholarship Edition   \n",
      "299997   12200  Bully: Scholarship Edition   \n",
      "299998   12200  Bully: Scholarship Edition   \n",
      "299999   12200  Bully: Scholarship Edition   \n",
      "\n",
      "                                              review_text  review_score  \\\n",
      "0                                         Ruined my life.             1   \n",
      "1       This will be more of a ''my experience with th...             1   \n",
      "2                           This game saved my virginity.             1   \n",
      "3       • Do you like original games? • Do you like ga...             1   \n",
      "4                Easy to learn, hard to master.                       1   \n",
      "...                                                   ...           ...   \n",
      "299995  One of my favorite Rockstar games. I hope a se...             1   \n",
      "299996  A wonderful game with a awesome plot. It might...             1   \n",
      "299997  Bully proved to be an open-ended world with mo...             1   \n",
      "299998  Encompassing all the mythos that American high...             1   \n",
      "299999  Probably Rockstar's best game on the PC, it's ...             1   \n",
      "\n",
      "        review_votes  \n",
      "0                  0  \n",
      "1                  1  \n",
      "2                  0  \n",
      "3                  0  \n",
      "4                  1  \n",
      "...              ...  \n",
      "299995             0  \n",
      "299996             0  \n",
      "299997             0  \n",
      "299998             0  \n",
      "299999             0  \n",
      "\n",
      "[300000 rows x 5 columns]\n"
     ]
    }
   ],
   "source": [
    "print(data)"
   ]
  },
  {
   "cell_type": "code",
   "execution_count": 44,
   "id": "5d5ec9db",
   "metadata": {},
   "outputs": [],
   "source": [
    "#Clean the data:\n",
    "import re\n",
    "#Remove duplicates, null values, and irrelevant information.\n",
    "#Handle noisy data (e.g., special characters, HTML tags).\n",
    "data.drop_duplicates()\n",
    "#print(data['review_text'])\n",
    "\n",
    "for review in data['review_text']:\n",
    "    review = re.sub('\\W+',' ', str(review) ).lower()\n",
    "\n"
   ]
  },
  {
   "cell_type": "code",
   "execution_count": 47,
   "id": "752aefcc",
   "metadata": {},
   "outputs": [
    {
     "data": {
      "text/plain": [
       "0                                [ruined, my, life, .]\n",
       "1    [this, will, be, more, of, a, ``, my, experien...\n",
       "2                [this, game, saved, my, virginity, .]\n",
       "3    [•, do, you, like, original, games, ?, •, do, ...\n",
       "4            [easy, to, learn, ,, hard, to, master, .]\n",
       "Name: review_text, dtype: object"
      ]
     },
     "execution_count": 47,
     "metadata": {},
     "output_type": "execute_result"
    }
   ],
   "source": [
    "data['review_text'].dropna(inplace=True)\n",
    "\n",
    "#Text preprocessing:\n",
    "import nltk\n",
    "from nltk.tokenize import word_tokenize\n",
    "#nltk.download('punkt')\n",
    "#Tokenization, lowercasing, removing stopwords, stemming, and lemmatization.\n",
    "text = data['review_text'].str.lower().astype('str')\n",
    "\n",
    "text = text.apply(word_tokenize)\n",
    "text.head()"
   ]
  },
  {
   "cell_type": "code",
   "execution_count": null,
   "id": "73a4d053",
   "metadata": {},
   "outputs": [
    {
     "name": "stderr",
     "output_type": "stream",
     "text": [
      "[nltk_data] Downloading package stopwords to\n",
      "[nltk_data]     C:\\Users\\Bobby\\AppData\\Roaming\\nltk_data...\n",
      "[nltk_data]   Package stopwords is already up-to-date!\n"
     ]
    }
   ],
   "source": [
    "nltk.download('stopwords')\n",
    "from nltk.corpus import stopwords\n",
    "stop_words = set(stopwords.words('english'))\n",
    "filtered_sentences = []\n",
    "for texts in text:\n",
    "    filtered_sentence = []\n",
    "    for word in texts:\n",
    "        if word not in stop_words:\n",
    "            filtered_sentence.append(word)\n",
    "    filtered_sentences.append(filtered_sentence)\n",
    "print(len(filtered_sentences))"
   ]
  },
  {
   "cell_type": "code",
   "execution_count": null,
   "id": "f5ccc93e",
   "metadata": {},
   "outputs": [],
   "source": []
  }
 ],
 "metadata": {
  "kernelspec": {
   "display_name": "Python 3 (ipykernel)",
   "language": "python",
   "name": "python3"
  },
  "language_info": {
   "codemirror_mode": {
    "name": "ipython",
    "version": 3
   },
   "file_extension": ".py",
   "mimetype": "text/x-python",
   "name": "python",
   "nbconvert_exporter": "python",
   "pygments_lexer": "ipython3",
   "version": "3.7.9"
  }
 },
 "nbformat": 4,
 "nbformat_minor": 5
}
